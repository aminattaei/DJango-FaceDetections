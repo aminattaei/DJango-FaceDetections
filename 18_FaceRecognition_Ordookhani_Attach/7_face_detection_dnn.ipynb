{
 "cells": [
  {
   "cell_type": "code",
   "execution_count": 10,
   "id": "7c8633a4",
   "metadata": {},
   "outputs": [],
   "source": [
    "import numpy as np\n",
    "import cv2"
   ]
  },
  {
   "cell_type": "code",
   "execution_count": 11,
   "id": "1208a05c",
   "metadata": {},
   "outputs": [
    {
     "name": "stdout",
     "output_type": "stream",
     "text": [
      "(819, 1862, 3)\n"
     ]
    }
   ],
   "source": [
    "# load image\n",
    "img = cv2.imread('./images/people.jpg')\n",
    "print(img.shape)\n",
    "\n",
    "cv2.imshow('image', img)\n",
    "cv2.waitKey(0)\n",
    "cv2.destroyAllWindows()"
   ]
  },
  {
   "cell_type": "code",
   "execution_count": 12,
   "id": "0479aaf9",
   "metadata": {},
   "outputs": [],
   "source": [
    "net = cv2.dnn.readNetFromCaffe('./models/deploy.prototxt.txt', './models/res10_300x300_ssd_iter_140000_fp16.caffemodel')"
   ]
  },
  {
   "cell_type": "code",
   "execution_count": 13,
   "id": "cffdbdfb",
   "metadata": {},
   "outputs": [],
   "source": [
    "# extract blob\n",
    "\n",
    "blob = cv2.dnn.blobFromImage(img, 1, (300,300),(104, 177, 123), swapRB=False)"
   ]
  },
  {
   "cell_type": "code",
   "execution_count": 14,
   "id": "2dc8ab07",
   "metadata": {},
   "outputs": [],
   "source": [
    "# set the blob as input\n",
    "net.setInput(blob)\n",
    "# run the model\n",
    "detections = net.forward()"
   ]
  },
  {
   "cell_type": "code",
   "execution_count": 15,
   "id": "51d9ab3b",
   "metadata": {},
   "outputs": [
    {
     "data": {
      "text/plain": [
       "(1, 1, 200, 7)"
      ]
     },
     "execution_count": 15,
     "metadata": {},
     "output_type": "execute_result"
    }
   ],
   "source": [
    "detections.shape"
   ]
  },
  {
   "cell_type": "code",
   "execution_count": 20,
   "id": "38ab0070",
   "metadata": {
    "scrolled": true
   },
   "outputs": [],
   "source": [
    "h,w = img.shape[:2]\n",
    "\n",
    "for i in range(0, detections.shape[2]):\n",
    "    confidence = detections[0,0,i,2]\n",
    "    if confidence >= 0.5:\n",
    "        #print(confidence)\n",
    "        \n",
    "        box = detections[0,0,i,3:7]\n",
    "        box = box*np.array([w,h,w,h])\n",
    "        box = box.astype(int)\n",
    "        startx, starty, endx, endy = box\n",
    "        cv2.rectangle(img,(startx, starty),(endx, endy), (0,255,0))\n",
    "        text = f'{confidence * 100}'\n",
    "        cv2.putText(img, text, (startx, starty - 10), cv2.FONT_HERSHEY_PLAIN, 1, (255,255,255))\n",
    "        \n",
    "cv2.imshow('face detection', img)\n",
    "cv2.waitKey(0)\n",
    "cv2.destroyAllWindows()"
   ]
  },
  {
   "cell_type": "code",
   "execution_count": null,
   "id": "94411186",
   "metadata": {},
   "outputs": [],
   "source": []
  }
 ],
 "metadata": {
  "kernelspec": {
   "display_name": "Python 3 (ipykernel)",
   "language": "python",
   "name": "python3"
  },
  "language_info": {
   "codemirror_mode": {
    "name": "ipython",
    "version": 3
   },
   "file_extension": ".py",
   "mimetype": "text/x-python",
   "name": "python",
   "nbconvert_exporter": "python",
   "pygments_lexer": "ipython3",
   "version": "3.7.9"
  }
 },
 "nbformat": 4,
 "nbformat_minor": 5
}

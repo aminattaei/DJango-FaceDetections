{
 "cells": [
  {
   "cell_type": "code",
   "execution_count": 1,
   "id": "74e86ae2",
   "metadata": {},
   "outputs": [],
   "source": [
    "import numpy as np\n",
    "import cv2"
   ]
  },
  {
   "cell_type": "code",
   "execution_count": 2,
   "id": "4f493649",
   "metadata": {},
   "outputs": [],
   "source": [
    "# Face Detection"
   ]
  },
  {
   "cell_type": "code",
   "execution_count": 3,
   "id": "e6a05ae3",
   "metadata": {},
   "outputs": [],
   "source": [
    "img = cv2.imread('./images/3.jpg')\n",
    "\n",
    "cv2.imshow('image', img)\n",
    "cv2.waitKey(0)\n",
    "cv2.destroyAllWindows()"
   ]
  },
  {
   "cell_type": "code",
   "execution_count": 4,
   "id": "b98dcfdc",
   "metadata": {},
   "outputs": [],
   "source": [
    "# load cascade classifier"
   ]
  },
  {
   "cell_type": "code",
   "execution_count": 5,
   "id": "38396cbf",
   "metadata": {},
   "outputs": [],
   "source": [
    "face_cascade = cv2.CascadeClassifier('./haar/haarcascade_frontalface_default.xml')"
   ]
  },
  {
   "cell_type": "code",
   "execution_count": 6,
   "id": "e0a11fe4",
   "metadata": {},
   "outputs": [],
   "source": [
    "# apply cascade classifier to an image"
   ]
  },
  {
   "cell_type": "code",
   "execution_count": 7,
   "id": "4be09afa",
   "metadata": {},
   "outputs": [],
   "source": [
    "faces,number_of_detections = face_cascade.detectMultiScale2(img)"
   ]
  },
  {
   "cell_type": "code",
   "execution_count": 8,
   "id": "0699b38c",
   "metadata": {},
   "outputs": [
    {
     "name": "stdout",
     "output_type": "stream",
     "text": [
      "[[198  84 115 115]]\n"
     ]
    }
   ],
   "source": [
    "print(faces)"
   ]
  },
  {
   "cell_type": "code",
   "execution_count": 9,
   "id": "f6e59fae",
   "metadata": {},
   "outputs": [
    {
     "name": "stdout",
     "output_type": "stream",
     "text": [
      "[75]\n"
     ]
    }
   ],
   "source": [
    "print(number_of_detections)"
   ]
  },
  {
   "cell_type": "code",
   "execution_count": 10,
   "id": "fecda69d",
   "metadata": {},
   "outputs": [],
   "source": [
    "pt1 = (198, 84)\n",
    "pt2 = (198 + 115, 84 + 115)\n",
    "\n",
    "cv2.rectangle(img, pt1, pt2,(0,255,0), 2)\n",
    "\n",
    "cv2.imshow('image', img)\n",
    "cv2.waitKey(0)\n",
    "cv2.destroyAllWindows()"
   ]
  },
  {
   "cell_type": "code",
   "execution_count": 11,
   "id": "9e3a4ce1",
   "metadata": {},
   "outputs": [],
   "source": [
    "img = cv2.imread('./images/1.jpeg')\n",
    "\n",
    "cv2.imshow('image', img)\n",
    "cv2.waitKey(0)\n",
    "cv2.destroyAllWindows()\n",
    "\n",
    "face_cascade = cv2.CascadeClassifier('./haar/haarcascade_frontalface_default.xml')\n",
    "\n",
    "faces, num_detection = face_cascade.detectMultiScale2(img, minNeighbors=8)\n",
    "\n",
    "\n",
    "\n",
    "for x,y,w,h in faces:\n",
    "    cv2.rectangle(img, (x,y),(x+w,y+h),(0,255,0),1)\n",
    "\n",
    "cv2.imshow('image', img)\n",
    "cv2.waitKey(0)\n",
    "cv2.destroyAllWindows()\n"
   ]
  },
  {
   "cell_type": "code",
   "execution_count": 55,
   "id": "aa4c033f",
   "metadata": {},
   "outputs": [],
   "source": [
    "img = cv2.imread('./images/people.jpg')\n",
    "\n",
    "cv2.imshow('image', img)\n",
    "cv2.waitKey(0)\n",
    "cv2.destroyAllWindows()"
   ]
  },
  {
   "cell_type": "code",
   "execution_count": 56,
   "id": "6ea170a1",
   "metadata": {},
   "outputs": [],
   "source": [
    "face_cascade = cv2.CascadeClassifier('./haar/haarcascade_frontalface_default.xml')\n",
    "eye_cascade = cv2.CascadeClassifier('./haar/haarcascade_eye.xml')"
   ]
  },
  {
   "cell_type": "code",
   "execution_count": 57,
   "id": "569d8c5e",
   "metadata": {},
   "outputs": [],
   "source": [
    "# face detection\n",
    "faces, num_detection_face = face_cascade.detectMultiScale2(img, minNeighbors=8)\n",
    "\n",
    "for x,y,w,h in faces:\n",
    "    cv2.rectangle(img, (x,y),(x+w,y+h),(0,255,0),1)\n",
    "    \n",
    "    # eye detection\n",
    "    face_roi = img[y:y+h, x:x+h]\n",
    "    eyes, num_detection_eyes = eye_cascade.detectMultiScale2(face_roi, minNeighbors=8)\n",
    "    \n",
    "    for ex, ey, ew, eh in eyes:\n",
    "        cx = x + ex + ew // 2\n",
    "        cy = y + ey + eh // 2\n",
    "        r = eh // 2\n",
    "        cv2.circle(img, (cx, cy), r, (255, 0, 255), 2)\n",
    "        \n",
    "\n",
    "cv2.imshow('image', img)\n",
    "cv2.waitKey(0)\n",
    "cv2.destroyAllWindows()\n",
    "        "
   ]
  },
  {
   "cell_type": "code",
   "execution_count": 87,
   "id": "16408af3",
   "metadata": {},
   "outputs": [],
   "source": [
    "img = cv2.imread('./images/people.jpg')\n",
    "face_cascade = cv2.CascadeClassifier('./haar/haarcascade_frontalface_default.xml')\n",
    "eye_cascade = cv2.CascadeClassifier('./haar/haarcascade_eye.xml')\n",
    "smile_cascade = cv2.CascadeClassifier('./haar/haarcascade_smile.xml')"
   ]
  },
  {
   "cell_type": "code",
   "execution_count": 88,
   "id": "1be18ac4",
   "metadata": {},
   "outputs": [],
   "source": [
    "# face detection\n",
    "faces, num_detection_face = face_cascade.detectMultiScale2(img, minNeighbors=8)\n",
    "\n",
    "for x,y,w,h in faces:\n",
    "    face_roi = img[y:y+h, x:x+h].copy()\n",
    "    cv2.rectangle(img, (x,y),(x+w,y+h),(0,255,0),1)\n",
    "    \n",
    "    # eye detection\n",
    "    \n",
    "    eyes, num_detection_eyes = eye_cascade.detectMultiScale2(face_roi, minNeighbors=8)\n",
    "    \n",
    "    for ex, ey, ew, eh in eyes:\n",
    "        cx = x + ex + ew // 2\n",
    "        cy = y + ey + eh // 2\n",
    "        r = eh // 2\n",
    "        cv2.circle(img, (cx, cy), r, (255, 0, 255), 2)\n",
    "        \n",
    "    smiles, num_detection_smile = smile_cascade.detectMultiScale2(face_roi,minNeighbors=300)\n",
    "    for sx, sy, sw, sh in smiles:\n",
    "        cv2.rectangle(img, (x+sx, y+sy),(x+sx+sw, y+sy+sh),(255,0,0),2)\n",
    "        \n",
    "\n",
    "cv2.imshow('image', img)\n",
    "cv2.waitKey(0)\n",
    "cv2.destroyAllWindows()"
   ]
  },
  {
   "cell_type": "code",
   "execution_count": null,
   "id": "31870da3",
   "metadata": {},
   "outputs": [],
   "source": []
  }
 ],
 "metadata": {
  "kernelspec": {
   "display_name": "Python 3 (ipykernel)",
   "language": "python",
   "name": "python3"
  },
  "language_info": {
   "codemirror_mode": {
    "name": "ipython",
    "version": 3
   },
   "file_extension": ".py",
   "mimetype": "text/x-python",
   "name": "python",
   "nbconvert_exporter": "python",
   "pygments_lexer": "ipython3",
   "version": "3.7.9"
  }
 },
 "nbformat": 4,
 "nbformat_minor": 5
}

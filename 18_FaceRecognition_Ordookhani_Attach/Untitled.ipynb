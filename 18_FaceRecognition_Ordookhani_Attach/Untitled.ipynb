{
 "cells": [
  {
   "cell_type": "code",
   "execution_count": 1,
   "id": "d7d031dc",
   "metadata": {},
   "outputs": [],
   "source": [
    "import numpy as np\n",
    "import cv2"
   ]
  },
  {
   "cell_type": "code",
   "execution_count": 2,
   "id": "cd036ff7",
   "metadata": {},
   "outputs": [],
   "source": [
    "img = cv2.imread('./images/cars.jpg')"
   ]
  },
  {
   "cell_type": "code",
   "execution_count": 3,
   "id": "b0eab629",
   "metadata": {},
   "outputs": [],
   "source": [
    "cv2.imshow('main image', img)\n",
    "cv2.waitKey(0)\n",
    "cv2.destroyAllWindows()"
   ]
  },
  {
   "cell_type": "code",
   "execution_count": 4,
   "id": "1947a761",
   "metadata": {},
   "outputs": [
    {
     "data": {
      "text/plain": [
       "(1080, 1920, 3)"
      ]
     },
     "execution_count": 4,
     "metadata": {},
     "output_type": "execute_result"
    }
   ],
   "source": [
    "img.shape"
   ]
  },
  {
   "cell_type": "code",
   "execution_count": 5,
   "id": "e0a991da",
   "metadata": {},
   "outputs": [],
   "source": [
    "b,g,r = cv2.split(img)"
   ]
  },
  {
   "cell_type": "code",
   "execution_count": 10,
   "id": "0b00d1be",
   "metadata": {},
   "outputs": [],
   "source": [
    "cv2.imshow('blue image', b)\n",
    "cv2.imshow('green image', g)\n",
    "cv2.imshow('red image', r)\n",
    "cv2.imshow('original image', img)\n",
    "cv2.waitKey(0)\n",
    "cv2.destroyAllWindows()"
   ]
  },
  {
   "cell_type": "code",
   "execution_count": null,
   "id": "9c3d9acf",
   "metadata": {},
   "outputs": [],
   "source": []
  }
 ],
 "metadata": {
  "kernelspec": {
   "display_name": "Python 3 (ipykernel)",
   "language": "python",
   "name": "python3"
  },
  "language_info": {
   "codemirror_mode": {
    "name": "ipython",
    "version": 3
   },
   "file_extension": ".py",
   "mimetype": "text/x-python",
   "name": "python",
   "nbconvert_exporter": "python",
   "pygments_lexer": "ipython3",
   "version": "3.7.9"
  }
 },
 "nbformat": 4,
 "nbformat_minor": 5
}

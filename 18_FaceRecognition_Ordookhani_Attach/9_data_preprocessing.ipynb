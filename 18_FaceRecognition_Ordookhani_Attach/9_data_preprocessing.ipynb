{
 "cells": [
  {
   "cell_type": "code",
   "execution_count": 1,
   "id": "ceb4349e",
   "metadata": {},
   "outputs": [],
   "source": [
    "import numpy as np\n",
    "import cv2\n",
    "import pandas as pd\n",
    "import os\n",
    "import pickle"
   ]
  },
  {
   "cell_type": "code",
   "execution_count": 2,
   "id": "73f03e95",
   "metadata": {},
   "outputs": [
    {
     "ename": "error",
     "evalue": "OpenCV(4.12.0) /io/opencv/modules/dnn/src/caffe/caffe_io.cpp:1126: error: (-2:Unspecified error) FAILED: fs.is_open(). Can't open \"./models/deploy.prototxt.txt\" in function 'ReadProtoFromTextFile'\n",
     "output_type": "error",
     "traceback": [
      "\u001b[31m---------------------------------------------------------------------------\u001b[39m",
      "\u001b[31merror\u001b[39m                                     Traceback (most recent call last)",
      "\u001b[36mCell\u001b[39m\u001b[36m \u001b[39m\u001b[32mIn[2]\u001b[39m\u001b[32m, line 6\u001b[39m\n\u001b[32m      3\u001b[39m face_descriptor = \u001b[33m'\u001b[39m\u001b[33m./models/openface.nn4.small2.v1.t7\u001b[39m\u001b[33m'\u001b[39m\n\u001b[32m      5\u001b[39m \u001b[38;5;66;03m# load models\u001b[39;00m\n\u001b[32m----> \u001b[39m\u001b[32m6\u001b[39m detector_model = \u001b[43mcv2\u001b[49m\u001b[43m.\u001b[49m\u001b[43mdnn\u001b[49m\u001b[43m.\u001b[49m\u001b[43mreadNetFromCaffe\u001b[49m\u001b[43m(\u001b[49m\u001b[43mface_detection_prot\u001b[49m\u001b[43m,\u001b[49m\u001b[43m \u001b[49m\u001b[43mface_detection_model\u001b[49m\u001b[43m)\u001b[49m\n\u001b[32m      7\u001b[39m descriptor_model = cv2.dnn.readNetFromTorch(face_descriptor)\n",
      "\u001b[31merror\u001b[39m: OpenCV(4.12.0) /io/opencv/modules/dnn/src/caffe/caffe_io.cpp:1126: error: (-2:Unspecified error) FAILED: fs.is_open(). Can't open \"./models/deploy.prototxt.txt\" in function 'ReadProtoFromTextFile'\n"
     ]
    }
   ],
   "source": [
    "face_detection_model = './models/res10_300x300_ssd_iter_140000_fp16.caffemodel'\n",
    "face_detection_prot = './models/deploy.prototxt.txt'\n",
    "face_descriptor = './models/openface.nn4.small2.v1.t7'\n",
    "\n",
    "# load models\n",
    "detector_model = cv2.dnn.readNetFromCaffe(face_detection_prot, face_detection_model)\n",
    "descriptor_model = cv2.dnn.readNetFromTorch(face_descriptor)\n",
    "descripto"
   ]
  },
  {
   "cell_type": "code",
   "execution_count": null,
   "id": "ff97d559",
   "metadata": {},
   "outputs": [],
   "source": [
    "!dir people-images"
   ]
  },
  {
   "cell_type": "code",
   "execution_count": null,
   "id": "59d2636f",
   "metadata": {},
   "outputs": [],
   "source": [
    "# sample image\n",
    "img = cv2.imread('./images/1.jpeg')\n",
    "cv2.imshow('image', img)\n",
    "cv2.waitKey(0)\n",
    "cv2.destroyAllWindows()\n",
    "\n",
    "if len(detections) > 0:\n",
    "    i = np.argmax(detections[0,0,:,2])\n",
    "    confidence = detections[0,0,i,2]\n",
    "    if confidence > 0.5:\n",
    "        box = detections[0,0,i,3:7] * np.array([w,h,w,h])\n",
    "        (startx, starty, endx, endy) = box.astype('int')\n",
    "        # step 2: feature extraction\n",
    "        roi = image[starty:endy, startx:endx].copy()\n",
    "        # get the face descriptor\n",
    "        faceblob = cv2.dnn.blobFromImage(roi, 1/255, (96,96), (0,0,0), swapRB=True, crop=True)\n",
    "        descriptor_model.setInput(faceblob)\n",
    "        vectors = descriptor_model.forward()"
   ]
  },
  {
   "cell_type": "code",
   "execution_count": null,
   "id": "204da4ef",
   "metadata": {},
   "outputs": [],
   "source": [
    "def helper(image_path):\n",
    "    img = cv2.imread(image_path)\n",
    "    # step-1: face detection\n",
    "    image = img.copy()\n",
    "    h,w = image.shape[:2]\n",
    "    img_blob = cv2.dnn.blobFromImage(image,1,(300,300),(104,177,123),swapRB=False,crop=False)\n",
    "    # set the input\n",
    "    detector_model.setInput(img_blob)\n",
    "    detections = detector_model.forward()\n",
    "\n",
    "    if len(detections) > 0:\n",
    "        i = np.argmax(detections[0,0,:,2])\n",
    "        confidence = detections[0,0,i,2]\n",
    "        if confidence > 0.5:\n",
    "            box = detections[0,0,i,3:7]*np.array([w,h,w,h])\n",
    "            (startx,starty,endx,endy) = box.astype('int')\n",
    "            # step-2: Feature Extraction or Embedding\n",
    "            roi = image[starty:endy,startx:endx].copy()\n",
    "            # get the face descriptors\n",
    "            faceblob = cv2.dnn.blobFromImage(roi,1/255,(96,96),(0,0,0),swapRB=True,crop=True)\n",
    "            descriptor_model.setInput(faceblob)\n",
    "            vectors = descriptor_model.forward()\n",
    "            \n",
    "            return vectors\n",
    "    return None"
   ]
  },
  {
   "cell_type": "code",
   "execution_count": null,
   "id": "2605ffb3",
   "metadata": {},
   "outputs": [],
   "source": [
    "data = dict(data=[], label=[])\n",
    "\n",
    "folders = os.listdir('people-images')\n",
    "for folder in folders:\n",
    "    filenames = os.listdir('people-images/{}'.format(folder))\n",
    "    for filename in filenames:\n",
    "        try:\n",
    "            vector = helper('./people-images/{}/{}'.format(folder, filename))\n",
    "            if vector is not None:\n",
    "                data['data'].append(vector)\n",
    "                data['label'].append(folder)\n",
    "        except:\n",
    "            print('error')\n",
    "            \n",
    "            "
   ]
  },
  {
   "cell_type": "code",
   "execution_count": null,
   "id": "4b6b4c9a",
   "metadata": {},
   "outputs": [],
   "source": [
    "data.keys()"
   ]
  },
  {
   "cell_type": "code",
   "execution_count": null,
   "id": "9f0231dd",
   "metadata": {},
   "outputs": [],
   "source": [
    "pd.Series(data['label']).value_counts()"
   ]
  },
  {
   "cell_type": "code",
   "execution_count": null,
   "id": "31cad75d",
   "metadata": {},
   "outputs": [],
   "source": [
    "pickle.dump(data,open('data_face_features.pickle', mode='wb'))"
   ]
  },
  {
   "cell_type": "code",
   "execution_count": null,
   "id": "e4f522b9",
   "metadata": {},
   "outputs": [],
   "source": []
  }
 ],
 "metadata": {
  "kernelspec": {
   "display_name": "Python 3 (ipykernel)",
   "language": "python",
   "name": "python3"
  },
  "language_info": {
   "codemirror_mode": {
    "name": "ipython",
    "version": 3
   },
   "file_extension": ".py",
   "mimetype": "text/x-python",
   "name": "python",
   "nbconvert_exporter": "python",
   "pygments_lexer": "ipython3",
   "version": "3.13.3"
  }
 },
 "nbformat": 4,
 "nbformat_minor": 5
}

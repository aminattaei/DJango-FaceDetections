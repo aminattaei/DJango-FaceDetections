{
 "cells": [
  {
   "cell_type": "code",
   "execution_count": 1,
   "id": "1ba9479e",
   "metadata": {},
   "outputs": [],
   "source": [
    "import numpy as np\n",
    "import cv2"
   ]
  },
  {
   "cell_type": "code",
   "execution_count": 2,
   "id": "667444d4",
   "metadata": {},
   "outputs": [],
   "source": [
    "img = cv2.imread('./images/2.jpg')"
   ]
  },
  {
   "cell_type": "code",
   "execution_count": 3,
   "id": "9db00a86",
   "metadata": {},
   "outputs": [
    {
     "data": {
      "text/plain": [
       "(281, 456, 3)"
      ]
     },
     "execution_count": 3,
     "metadata": {},
     "output_type": "execute_result"
    }
   ],
   "source": [
    "img.shape"
   ]
  },
  {
   "cell_type": "code",
   "execution_count": 4,
   "id": "9983de21",
   "metadata": {},
   "outputs": [],
   "source": [
    "def display(winname, image):\n",
    "    cv2.imshow(winname, image)\n",
    "    cv2.waitKey(0)\n",
    "    cv2.destroyAllWindows()"
   ]
  },
  {
   "cell_type": "code",
   "execution_count": 5,
   "id": "d29932f9",
   "metadata": {},
   "outputs": [],
   "source": [
    "display('ronaldo', img)"
   ]
  },
  {
   "cell_type": "code",
   "execution_count": 7,
   "id": "088e0383",
   "metadata": {},
   "outputs": [],
   "source": [
    "new_image = img[0:281, 0:456]"
   ]
  },
  {
   "cell_type": "code",
   "execution_count": 8,
   "id": "bbdff142",
   "metadata": {},
   "outputs": [],
   "source": [
    "display('new image',new_image)"
   ]
  },
  {
   "cell_type": "code",
   "execution_count": 9,
   "id": "4a3778c7",
   "metadata": {},
   "outputs": [],
   "source": [
    "green_pixel = (0, 255, 0)"
   ]
  },
  {
   "cell_type": "code",
   "execution_count": 10,
   "id": "6e77164b",
   "metadata": {},
   "outputs": [],
   "source": [
    "img[0:100, 0: 100] = green_pixel"
   ]
  },
  {
   "cell_type": "code",
   "execution_count": 11,
   "id": "09de825f",
   "metadata": {},
   "outputs": [],
   "source": [
    "display('green pixel image',img)"
   ]
  },
  {
   "cell_type": "code",
   "execution_count": null,
   "id": "ad89cd34",
   "metadata": {},
   "outputs": [],
   "source": []
  }
 ],
 "metadata": {
  "kernelspec": {
   "display_name": "Python 3 (ipykernel)",
   "language": "python",
   "name": "python3"
  },
  "language_info": {
   "codemirror_mode": {
    "name": "ipython",
    "version": 3
   },
   "file_extension": ".py",
   "mimetype": "text/x-python",
   "name": "python",
   "nbconvert_exporter": "python",
   "pygments_lexer": "ipython3",
   "version": "3.7.9"
  }
 },
 "nbformat": 4,
 "nbformat_minor": 5
}

{
 "cells": [
  {
   "cell_type": "code",
   "execution_count": 1,
   "id": "2db091bc",
   "metadata": {},
   "outputs": [],
   "source": [
    "import cv2\n",
    "import numpy as np"
   ]
  },
  {
   "cell_type": "code",
   "execution_count": 2,
   "id": "85dfaaa6",
   "metadata": {},
   "outputs": [],
   "source": [
    "canvas = np.zeros((300,300,3), dtype='uint8')"
   ]
  },
  {
   "cell_type": "code",
   "execution_count": 3,
   "id": "6389d597",
   "metadata": {},
   "outputs": [],
   "source": [
    "cv2.imshow('black image',canvas)\n",
    "cv2.waitKey(0)\n",
    "cv2.destroyAllWindows()"
   ]
  },
  {
   "cell_type": "code",
   "execution_count": 5,
   "id": "bf75fac3",
   "metadata": {},
   "outputs": [],
   "source": [
    "pt1 = (0, 0)\n",
    "pt2 = (300, 300)\n",
    "color = (0,255,0)\n",
    "cv2.line(canvas, pt1, pt2, color)\n",
    "\n",
    "cv2.imshow('canvas black image with line',canvas)\n",
    "cv2.waitKey(0)\n",
    "cv2.destroyAllWindows()"
   ]
  },
  {
   "cell_type": "code",
   "execution_count": 6,
   "id": "41f906ec",
   "metadata": {},
   "outputs": [],
   "source": [
    "pt1 = (0, 300)\n",
    "pt2 = (300, 0)\n",
    "\n",
    "cv2.line(canvas, pt1, pt2, (0,0, 255), 5)\n",
    "\n",
    "cv2.imshow('canvas', canvas)\n",
    "cv2.waitKey(0)\n",
    "cv2.destroyAllWindows()"
   ]
  },
  {
   "cell_type": "code",
   "execution_count": 23,
   "id": "57ead843",
   "metadata": {},
   "outputs": [],
   "source": [
    "rect = np.zeros((600,600,3), dtype='uint8')"
   ]
  },
  {
   "cell_type": "code",
   "execution_count": 26,
   "id": "e7efc007",
   "metadata": {},
   "outputs": [],
   "source": [
    "pt1 = (100, 100)\n",
    "pt2 = (250, 250)\n",
    "color = (255, 0, 0)\n",
    "\n",
    "cv2.rectangle(rect, pt1, pt2, color)\n",
    "cv2.rectangle(rect, (150,150),(300,300),(0, 255,0), 5)\n",
    "cv2.rectangle(rect, (250,250),(400,400),(0, 0,255), -1)\n",
    "\n",
    "cv2.imshow('rect', rect)\n",
    "cv2.waitKey(0)\n",
    "cv2.destroyAllWindows()"
   ]
  },
  {
   "cell_type": "code",
   "execution_count": null,
   "id": "79a5f74c",
   "metadata": {},
   "outputs": [],
   "source": [
    "canvas = 255 * np.ones((600,600,3), dtype='uint8')\n",
    "\n",
    "pts = np.array([[200, 200],[250, 300],[350, 300],[400, 200],[350, 100],[250, 100]])\n",
    "pts = pts.reshape((-1,1,2))\n",
    "cv2.polylines(canvas, [pts], True, (255,0,0), 5)\n",
    "\n",
    "pts = np.array([[100, 200],[150, 300],[250, 300],[300, 200],[250, 100],[150, 100]])\n",
    "pts = pts.reshape((-1,1,2))\n",
    "cv2.polylines(canvas, [pts], True, (0,255,0), 5)\n",
    "\n",
    "\n",
    "cv2.imshow('canvas', canvas)\n",
    "cv2.waitKey(0)\n",
    "cv2.destroyAllWindows()"
   ]
  },
  {
   "cell_type": "code",
   "execution_count": null,
   "id": "97a4e049",
   "metadata": {},
   "outputs": [],
   "source": []
  }
 ],
 "metadata": {
  "kernelspec": {
   "display_name": "Python 3 (ipykernel)",
   "language": "python",
   "name": "python3"
  },
  "language_info": {
   "codemirror_mode": {
    "name": "ipython",
    "version": 3
   },
   "file_extension": ".py",
   "mimetype": "text/x-python",
   "name": "python",
   "nbconvert_exporter": "python",
   "pygments_lexer": "ipython3",
   "version": "3.7.9"
  }
 },
 "nbformat": 4,
 "nbformat_minor": 5
}

{
 "cells": [
  {
   "cell_type": "code",
   "execution_count": 1,
   "id": "91cbb093",
   "metadata": {},
   "outputs": [],
   "source": [
    "import numpy as np\n",
    "import cv2\n",
    "import dlib\n",
    "from imutils import face_utils"
   ]
  },
  {
   "cell_type": "code",
   "execution_count": 2,
   "id": "3ae63cf6",
   "metadata": {},
   "outputs": [],
   "source": [
    "img = cv2.imread('./images/1.jpeg')\n",
    "\n",
    "cv2.imshow('image', img)\n",
    "cv2.waitKey(0)\n",
    "cv2.destroyAllWindows()"
   ]
  },
  {
   "cell_type": "code",
   "execution_count": 3,
   "id": "403faefc",
   "metadata": {},
   "outputs": [],
   "source": [
    "# shape predictor\n",
    "shape_predictor = dlib.shape_predictor('./models/shape_predictor_68_face_landmarks.dat')\n",
    "# face descriptor\n",
    "shape_descriptor = dlib.face_recognition_model_v1('./models/dlib_face_recognition_resnet_model_v1.dat')"
   ]
  },
  {
   "cell_type": "code",
   "execution_count": 10,
   "id": "bb7bf62c",
   "metadata": {},
   "outputs": [],
   "source": [
    "# step-1: Face Detection\n",
    "image = img.copy()\n",
    "face_detector = dlib.get_frontal_face_detector()\n",
    "faces = face_detector(image)\n",
    "\n",
    "for box in faces:\n",
    "    pt1 = box.left(), box.top()\n",
    "    pt2 = box.right(), box.bottom()\n",
    "    \n",
    "    face_shape = shape_predictor(image, box)\n",
    "    face_shape_array = face_utils.shape_to_np(face_shape)\n",
    "    face_descriptor = shape_descriptor.compute_face_descriptor(image, face_shape)\n",
    "    # print(face_shape_array)\n",
    "    for point in face_shape_array:\n",
    "        cv2.circle(image,tuple(point),3,(0,255,0), -1)\n",
    "    \n",
    "    cv2.rectangle(image, pt1, pt2, (0,255,0),1)\n",
    "\n",
    "cv2.imshow('image', image)\n",
    "cv2.waitKey(0)\n",
    "cv2.destroyAllWindows()"
   ]
  },
  {
   "cell_type": "code",
   "execution_count": 12,
   "id": "50d04ef4",
   "metadata": {},
   "outputs": [
    {
     "name": "stdout",
     "output_type": "stream",
     "text": [
      "[-0.08566149  0.12928258  0.07902831 -0.04177748 -0.13511725  0.01849448\n",
      "  0.01722086 -0.08290726  0.11290857 -0.00053572  0.22981457 -0.02836225\n",
      " -0.30105001 -0.04824086 -0.04102787  0.09562366 -0.14647704 -0.1464427\n",
      " -0.16879889 -0.12212455  0.02710262 -0.03427339 -0.01562258  0.04217236\n",
      " -0.09100237 -0.28302893  0.01695393 -0.11431924  0.10361598 -0.13344482\n",
      " -0.00374222  0.0238403  -0.20278795 -0.08852831 -0.07301836  0.02157458\n",
      " -0.12873352 -0.07731415  0.28469387 -0.04644959 -0.16903636  0.0717627\n",
      " -0.01081722  0.2996653   0.27570236 -0.02055282  0.11041468 -0.04684035\n",
      "  0.17002112 -0.32918951  0.0116087   0.24678411  0.12473498  0.04635383\n",
      "  0.05028848 -0.22090912 -0.03274122  0.17186026 -0.19721279  0.17165318\n",
      "  0.06712983 -0.12097985 -0.00818589 -0.09899892  0.15787534  0.0263398\n",
      " -0.09618082 -0.09840504  0.15315221 -0.13622652  0.02702996  0.13315266\n",
      " -0.14651155 -0.2409074  -0.25088832  0.08750832  0.42246321  0.15832637\n",
      " -0.13259651  0.05201352 -0.1212396  -0.0100722   0.03435101 -0.00715262\n",
      " -0.10616389 -0.00966978 -0.15312855  0.0922358   0.1949416  -0.03581452\n",
      " -0.01181101  0.24409883  0.02431667 -0.06125024  0.03794935  0.08551665\n",
      " -0.11228476 -0.01224018 -0.10330646  0.0156536   0.05203673 -0.22086558\n",
      "  0.06565742 -0.01520668 -0.16685718  0.15334348 -0.06544293  0.08484899\n",
      " -0.10201024 -0.12151157 -0.07769768  0.08647559  0.27335525 -0.24863519\n",
      "  0.23009191  0.20121109  0.00994607  0.1373589   0.09804476  0.01816699\n",
      " -0.03871882 -0.0512711  -0.12493287 -0.06615807  0.02315816  0.00525083\n",
      "  0.12385015  0.08021483]\n"
     ]
    },
    {
     "data": {
      "text/plain": [
       "128"
      ]
     },
     "execution_count": 12,
     "metadata": {},
     "output_type": "execute_result"
    }
   ],
   "source": [
    "print(np.array(face_descriptor))\n",
    "len(np.array(face_descriptor))"
   ]
  },
  {
   "cell_type": "code",
   "execution_count": null,
   "id": "befa871e",
   "metadata": {},
   "outputs": [],
   "source": []
  }
 ],
 "metadata": {
  "kernelspec": {
   "display_name": "Python 3 (ipykernel)",
   "language": "python",
   "name": "python3"
  },
  "language_info": {
   "codemirror_mode": {
    "name": "ipython",
    "version": 3
   },
   "file_extension": ".py",
   "mimetype": "text/x-python",
   "name": "python",
   "nbconvert_exporter": "python",
   "pygments_lexer": "ipython3",
   "version": "3.7.9"
  }
 },
 "nbformat": 4,
 "nbformat_minor": 5
}

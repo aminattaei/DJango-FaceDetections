{
 "cells": [
  {
   "cell_type": "code",
   "execution_count": 1,
   "id": "38c4650d",
   "metadata": {},
   "outputs": [],
   "source": [
    "import numpy as np\n",
    "import cv2"
   ]
  },
  {
   "cell_type": "code",
   "execution_count": 10,
   "id": "e35a55e1",
   "metadata": {},
   "outputs": [],
   "source": [
    "img = cv2.imread('./images/3.jpg')"
   ]
  },
  {
   "cell_type": "code",
   "execution_count": 16,
   "id": "9aa7fa6e",
   "metadata": {},
   "outputs": [],
   "source": [
    "cv2.imshow('original image', img)"
   ]
  },
  {
   "cell_type": "code",
   "execution_count": 17,
   "id": "d64fca4c",
   "metadata": {},
   "outputs": [],
   "source": [
    "# 1. BGR to gray\n",
    "\n",
    "gray = cv2.cvtColor(img, cv2.COLOR_BGR2GRAY)\n",
    "cv2.imshow('gray image', gray)\n",
    "\n",
    "\n",
    "# 2. BGR to RGB\n",
    "\n",
    "img_rgb = cv2.cvtColor(img, cv2.COLOR_BGR2RGB)\n",
    "cv2.imshow('rgb image', img_rgb)\n",
    "\n",
    "\n",
    "# 3. BGR to HSV\n",
    "\n",
    "img_hsv = cv2.cvtColor(img, cv2.COLOR_BGR2HSV)\n",
    "cv2.imshow('hsv image', img_hsv)\n",
    "\n",
    "\n",
    "# 4. BGR to LAB\n",
    "\n",
    "img_lab = cv2.cvtColor(img, cv2.COLOR_BGR2LAB)\n",
    "cv2.imshow('lab image', img_lab)\n",
    "\n",
    "\n",
    "\n",
    "cv2.waitKey(0)\n",
    "cv2.destroyAllWindows()\n",
    "\n"
   ]
  },
  {
   "cell_type": "code",
   "execution_count": null,
   "id": "4815c848",
   "metadata": {},
   "outputs": [],
   "source": []
  }
 ],
 "metadata": {
  "kernelspec": {
   "display_name": "Python 3 (ipykernel)",
   "language": "python",
   "name": "python3"
  },
  "language_info": {
   "codemirror_mode": {
    "name": "ipython",
    "version": 3
   },
   "file_extension": ".py",
   "mimetype": "text/x-python",
   "name": "python",
   "nbconvert_exporter": "python",
   "pygments_lexer": "ipython3",
   "version": "3.7.9"
  }
 },
 "nbformat": 4,
 "nbformat_minor": 5
}
